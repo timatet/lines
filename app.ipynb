{
 "cells": [
  {
   "attachments": {},
   "cell_type": "markdown",
   "metadata": {},
   "source": [
    "### LINES"
   ]
  },
  {
   "cell_type": "code",
   "execution_count": null,
   "metadata": {},
   "outputs": [],
   "source": [
    "# Import neccsessary luibraries and first data\n",
    "\n",
    "import numpy as np\n",
    "import matplotlib.pyplot as plt\n",
    "import math\n",
    "\n",
    "DPI = 150\n",
    "RAD_1 = 5"
   ]
  },
  {
   "cell_type": "code",
   "execution_count": null,
   "metadata": {},
   "outputs": [],
   "source": [
    "# Functions \n",
    "def approx_points(river_X, river_Y, approx):\n",
    "    gcd_point_X = int(river_X[0] * approx)\n",
    "    gcd_point_Y = int(river_Y[0] * approx)\n",
    "    for point_X, point_Y in zip(river_X, river_Y):\n",
    "        gcd_point_X = math.gcd(gcd_point_X, int(point_X * approx))\n",
    "        gcd_point_Y = math.gcd(gcd_point_Y, int(point_Y * approx))\n",
    "    XY_gcd = math.gcd(gcd_point_X, gcd_point_Y)\n",
    "    approx_river_X = [int(p * approx) / XY_gcd for p in river_X]\n",
    "    approx_river_Y = [int(p * approx) / XY_gcd for p in river_Y]\n",
    "    return approx_river_X, approx_river_Y"
   ]
  },
  {
   "cell_type": "code",
   "execution_count": null,
   "metadata": {},
   "outputs": [],
   "source": [
    "import geojson\n",
    "with open('./pahma.geojson') as f:\n",
    "    parsed_geojson = geojson.load(f)\n",
    "    \n",
    "selected_feature = 2\n",
    "features = parsed_geojson['features'][selected_feature]\n",
    "print(f\"Count of features: {len(parsed_geojson['features'])}\")\n",
    "print(f\"Selected feature: {selected_feature}\")\n",
    "geometry = features['geometry']\n",
    "coordinates = geometry['coordinates']\n",
    "print(f\"Count of points: {len(coordinates)}\")\n",
    "\n",
    "river_X = list(zip(*coordinates))[0]\n",
    "river_Y = list(zip(*coordinates))[1] \n",
    "\n",
    "river_X, river_Y = approx_points(river_X, river_Y, 5000)"
   ]
  },
  {
   "cell_type": "code",
   "execution_count": null,
   "metadata": {},
   "outputs": [],
   "source": [
    "f = plt.figure()\n",
    "f.set_dpi(DPI)\n",
    "\n",
    "plt.axis('equal')\n",
    "\n",
    "plt.plot(river_X, river_Y, 'black', linewidth = 1)\n",
    "\n",
    "circle_1 = plt.Circle((196400, 288080), 5, color='r', fill=False)\n",
    " \n",
    "plt.gca().add_artist(circle_1)\n",
    "\n",
    "plt.show()"
   ]
  }
 ],
 "metadata": {
  "kernelspec": {
   "display_name": "SageMath 9.0",
   "language": "sage",
   "name": "sagemath"
  },
  "language_info": {
   "codemirror_mode": {
    "name": "ipython",
    "version": 3
   },
   "file_extension": ".py",
   "mimetype": "text/x-python",
   "name": "python",
   "nbconvert_exporter": "python",
   "pygments_lexer": "ipython3",
   "version": "3.8.10"
  },
  "orig_nbformat": 4
 },
 "nbformat": 4,
 "nbformat_minor": 2
}
