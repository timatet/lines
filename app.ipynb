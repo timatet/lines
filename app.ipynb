{
 "cells": [
  {
   "attachments": {},
   "cell_type": "markdown",
   "metadata": {},
   "source": [
    "### Test run"
   ]
  },
  {
   "cell_type": "code",
   "execution_count": null,
   "metadata": {},
   "outputs": [],
   "source": [
    "# Import neccsessary luibraries and first data\n",
    "\n",
    "import numpy as np\n",
    "import matplotlib.pyplot as plt\n",
    "\n",
    "f = plt.figure()\n",
    "f.set_dpi(150)\n",
    "\n",
    "import geojson\n",
    "with open('./pahma.geojson') as f:\n",
    "    parsed_geojson = geojson.load(f)\n",
    "    \n",
    "selected_feature = 2\n",
    "features = parsed_geojson['features'][selected_feature]\n",
    "print(f\"Count of features: {len(parsed_geojson['features'])}\")\n",
    "print(f\"Selected feature: {selected_feature}\")\n",
    "geometry = features['geometry']\n",
    "coordinates = geometry['coordinates']\n",
    "print(f\"Count of points: {len(coordinates)}\")\n",
    "\n",
    "river_X = list(zip(*coordinates))[0]\n",
    "river_Y = list(zip(*coordinates))[1] \n",
    "\n",
    "plt.axis('equal')\n",
    "\n",
    "plt.plot(river_X, river_Y, 'black', linewidth = 1)\n",
    "plt.show()"
   ]
  }
 ],
 "metadata": {
  "kernelspec": {
   "display_name": "Python 3",
   "language": "python",
   "name": "python3"
  },
  "language_info": {
   "codemirror_mode": {
    "name": "ipython",
    "version": 3
   },
   "file_extension": ".py",
   "mimetype": "text/x-python",
   "name": "python",
   "nbconvert_exporter": "python",
   "pygments_lexer": "ipython3",
   "version": "3.8.10"
  },
  "orig_nbformat": 4
 },
 "nbformat": 4,
 "nbformat_minor": 2
}
