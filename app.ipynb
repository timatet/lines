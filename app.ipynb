{
 "cells": [
  {
   "attachments": {},
   "cell_type": "markdown",
   "metadata": {},
   "source": [
    "### LINES"
   ]
  },
  {
   "cell_type": "code",
   "execution_count": null,
   "metadata": {
    "vscode": {
     "languageId": "python"
    }
   },
   "outputs": [],
   "source": [
    "# Import neccsessary luibraries and first data\n",
    "\n",
    "import numpy as np\n",
    "import matplotlib.pyplot as plt\n",
    "import math\n",
    "\n",
    "DPI = 150\n",
    "RAD_1 = 5"
   ]
  },
  {
   "cell_type": "code",
   "execution_count": null,
   "metadata": {
    "vscode": {
     "languageId": "python"
    }
   },
   "outputs": [],
   "source": [
    "# Functions \n",
    "def approx_points(river_X, river_Y, approx):\n",
    "    gcd_point_X = int(river_X[0] * approx)\n",
    "    gcd_point_Y = int(river_Y[0] * approx)\n",
    "    for point_X, point_Y in zip(river_X, river_Y):\n",
    "        gcd_point_X = math.gcd(gcd_point_X, int(point_X * approx))\n",
    "        gcd_point_Y = math.gcd(gcd_point_Y, int(point_Y * approx))\n",
    "    XY_gcd = math.gcd(gcd_point_X, gcd_point_Y)\n",
    "    approx_river_X = [int(p * approx) / XY_gcd for p in river_X]\n",
    "    approx_river_Y = [int(p * approx) / XY_gcd for p in river_Y]\n",
    "    return approx_river_X, approx_river_Y"
   ]
  },
  {
   "attachments": {},
   "cell_type": "markdown",
   "metadata": {},
   "source": [
    "### Окружности\n",
    "\n",
    "$$ (x - a)^{2} + (y - b)^{2} = r^2 $$\n",
    "$$ x^{2} + y^{2} - 2ax - 2by + (b^{2} + a^{2}) = r^{2} $$\n",
    "$$ A = -2a; B = -2b; C = b^{2} + a^{2}; $$"
   ]
  },
  {
   "cell_type": "code",
   "execution_count": null,
   "metadata": {
    "vscode": {
     "languageId": "python"
    }
   },
   "outputs": [],
   "source": [
    "def get_circle(p1, p2, p3):\n",
    "    temp = p2[0] ** 2 + p2[1] ** 2\n",
    "    bc = (p1[0] * p1[0] + p1[1] * p1[1] - temp) / 2\n",
    "    cd = (temp - p3[0] * p3[0] - p3[1] * p3[1]) / 2\n",
    "    det = (p1[0] - p2[0]) * (p2[1] - p3[1]) - (p2[0] - p3[0]) * (p1[1] - p2[1])\n",
    "    \n",
    "    if abs(det) < 1.0e-6:\n",
    "        return (None, np.inf)\n",
    "    \n",
    "    cx = (bc * (p2[1] - p3[1]) - cd * (p1[1] - p2[1])) / det\n",
    "    cy = ((p1[0] - p2[0]) * cd - (p2[0] - p3[0]) * bc) / det\n",
    "    \n",
    "    radius = np.sqrt((cx - p1[0])**2 + (cy - p1[1])**2)\n",
    "    return ((cx, cy), radius)"
   ]
  },
  {
   "cell_type": "code",
   "execution_count": null,
   "metadata": {
    "vscode": {
     "languageId": "python"
    }
   },
   "outputs": [],
   "source": [
    "import geojson\n",
    "with open('./pahma.geojson') as f:\n",
    "    parsed_geojson = geojson.load(f)\n",
    "    \n",
    "selected_feature = 2\n",
    "features = parsed_geojson['features'][selected_feature]\n",
    "print(f\"Count of features: {len(parsed_geojson['features'])}\")\n",
    "print(f\"Selected feature: {selected_feature}\")\n",
    "geometry = features['geometry']\n",
    "coordinates = geometry['coordinates']\n",
    "print(f\"Count of points: {len(coordinates)}\")\n",
    "\n",
    "river_X = list(zip(*coordinates))[0]\n",
    "river_Y = list(zip(*coordinates))[1] \n",
    "\n",
    "river_X, river_Y = approx_points(river_X, river_Y, 5000)"
   ]
  },
  {
   "cell_type": "code",
   "execution_count": null,
   "metadata": {
    "vscode": {
     "languageId": "python"
    }
   },
   "outputs": [],
   "source": [
    "f = plt.figure()\n",
    "f.set_dpi(DPI)\n",
    "\n",
    "plt.axis('equal')\n",
    "\n",
    "plt.plot(river_X, river_Y, 'black', linewidth = 1)\n",
    "\n",
    "center, radius = get_circle((river_X[0],river_Y[0]), (river_X[1],river_Y[1]), (river_X[2],river_Y[2]))\n",
    "if center is not None:\n",
    "    circle = plt.Circle(center, radius, color='r', fill=False)\n",
    "    plt.gcf().gca().add_artist(circle)\n",
    "\n",
    "#circle_1 = plt.Circle((196400, 288080), 1, color='r', fill=False)\n",
    "#plt.gca().add_artist(circle_1)\n",
    "\n",
    "plt.show()"
   ]
  }
 ],
 "metadata": {
  "kernelspec": {
   "display_name": "SageMath 9.0",
   "language": "sage",
   "name": "sagemath"
  },
  "language_info": {
   "codemirror_mode": {
    "name": "ipython",
    "version": 3
   },
   "file_extension": ".py",
   "mimetype": "text/x-python",
   "name": "sage",
   "nbconvert_exporter": "python",
   "pygments_lexer": "ipython3",
   "version": "3.8.10"
  },
  "orig_nbformat": 4
 },
 "nbformat": 4,
 "nbformat_minor": 2
}
